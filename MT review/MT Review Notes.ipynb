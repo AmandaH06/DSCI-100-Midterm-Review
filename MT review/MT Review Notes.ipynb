{
 "cells": [
  {
   "cell_type": "markdown",
   "id": "6723d4e0-b912-47f9-94e9-e366e6c4b834",
   "metadata": {},
   "source": [
    "<h1>MT Review “Cheat Sheet”</h1>"
   ]
  },
  {
   "cell_type": "markdown",
   "id": "5dfd1343-5662-46d3-9c1c-c73f8dc185af",
   "metadata": {},
   "source": [
    "**Chapter 1\n",
    "R and tidyverse**\n"
   ]
  },
  {
   "cell_type": "markdown",
   "id": "e2697d53-31f4-453c-9129-65ff897213ee",
   "metadata": {},
   "source": [
    "**LO1: Identify the different types of data analysis questions and categorize a question into the correct type:**\n",
    "\n",
    "Different types of questions:\n",
    "\n",
    "**Descriptive**: asks about summarized characteristics of a data set without interpretation. Ask what is, rather than why and how. \n",
    "Ex: how many languages are there in India?\n",
    "\n",
    "**Exploratory**: asks if there are trends, relationships within a single data set. \n",
    "Ex: does exam success rate change with the amount of sleep students get?\n",
    "\n",
    "**Predictive**: asks about predicting measurements for things or people. FOCUS on what things predict the outcome, NOT what causes the outcome. Classify new observations based on existing data.\n",
    "Ex: what is the type of a newly observed tumour based on its width and texture?\n",
    "\n",
    "**Inferential**: looks for patterns, relationships in a single data set AND makes inference on the wider population.\n",
    "Ex: does sleep times affect the success rate of students in all of Canada?\n",
    "\n",
    "**Causal**: asks about whether changing one factor will lead to change in another factor, in the wider population. \n",
    "Ex: does sleep deprivation lead to lower success rate in students in BC?\n",
    "\n",
    "**Mechanistic**: asks about the underlying mechanism of the observed relationships. How does it happen?\n",
    "Ex: How does sleep deprivation lead to lower success rates in students of BC?\n"
   ]
  },
  {
   "cell_type": "markdown",
   "id": "31d33d01-27fa-4cca-8ca7-a49f5a8a89f7",
   "metadata": {},
   "source": [
    "**LO2: Load the tidyverse package into R**"
   ]
  },
  {
   "cell_type": "code",
   "execution_count": 23,
   "id": "4f809fd7-88b7-4c49-9fa7-b50cad3a7bd3",
   "metadata": {},
   "outputs": [],
   "source": [
    "options(repr.matrix.max.rows = 6)\n",
    "library(palmerpenguins)"
   ]
  },
  {
   "cell_type": "markdown",
   "id": "dc4d6c83-2996-49d7-a4ed-2d9cca1aa1d5",
   "metadata": {},
   "source": [
    "**Function**: a function is a special word in R, takes instructions(arguments) and does something"
   ]
  },
  {
   "cell_type": "markdown",
   "id": "0345d60f-1928-47fa-801e-9d8bbc3ff49a",
   "metadata": {},
   "source": [
    "**R package**: a collection of functions that can be used additional to the built-in R package functions. **ex**: read_csv() is a function contained in tidyverse package."
   ]
  },
  {
   "cell_type": "code",
   "execution_count": 22,
   "id": "afe5b413-dedb-432f-a046-244689c5cdab",
   "metadata": {},
   "outputs": [],
   "source": [
    "#code# \n",
    "library(tidyverse)"
   ]
  },
  {
   "cell_type": "markdown",
   "id": "51a2b426-ce1f-4d4d-9339-0a3fd79f8fb0",
   "metadata": {},
   "source": [
    "**Tidyverse**: this is a meta package contains many functions such as those used to load, clean, wrangle, and visualize data. It also contains several other packages as well (meta package)."
   ]
  },
  {
   "cell_type": "code",
   "execution_count": 24,
   "id": "88b1603f-9734-4ce6-859e-f8f88b7bc8b9",
   "metadata": {},
   "outputs": [],
   "source": [
    "# We have to put quotes \"\" around file names and other words in the code cell to distuiguish\n",
    "# them from special words(like function) for R"
   ]
  },
  {
   "cell_type": "markdown",
   "id": "c6bd466a-686c-4317-89c1-9f3396ba372c",
   "metadata": {},
   "source": [
    "**LO3: read tabular data with read_csv**"
   ]
  },
  {
   "cell_type": "markdown",
   "id": "ab687486-5465-4771-ade4-a2c40aa88b5c",
   "metadata": {},
   "source": [
    ".csv: tubular data in the \"comma-separated values\" format, each value in the table separated by a comma."
   ]
  },
  {
   "cell_type": "markdown",
   "id": "01d457af-425b-4f2c-9651-96b27d4a3e78",
   "metadata": {},
   "source": [
    "**read_csv:** funcion, expects data files to:\n",
    "have column names (headers)\n",
    "use a comma (,) to separae columns\n",
    "does not have row names"
   ]
  },
  {
   "cell_type": "code",
   "execution_count": 25,
   "id": "01838faf-6ed7-42d0-b331-a6b65e001752",
   "metadata": {},
   "outputs": [],
   "source": [
    "##code:\n",
    "## name <- read_csv(\"folder name/data file name\")"
   ]
  },
  {
   "cell_type": "markdown",
   "id": "cb166077-127c-4e7b-bb03-bc2172f12cfb",
   "metadata": {},
   "source": [
    "**LO4: naming things in R**"
   ]
  },
  {
   "cell_type": "code",
   "execution_count": 34,
   "id": "1b43a7b7-adf8-4644-b1f5-66a1cd546875",
   "metadata": {},
   "outputs": [],
   "source": [
    "#using the assignment symbol \"<-\"\n",
    "my_number <- 3"
   ]
  },
  {
   "cell_type": "code",
   "execution_count": 35,
   "id": "8af1182a-bca8-403b-97c8-3d95787d797b",
   "metadata": {},
   "outputs": [
    {
     "data": {
      "text/html": [
       "5"
      ],
      "text/latex": [
       "5"
      ],
      "text/markdown": [
       "5"
      ],
      "text/plain": [
       "[1] 5"
      ]
     },
     "metadata": {},
     "output_type": "display_data"
    }
   ],
   "source": [
    "my_number + 2"
   ]
  },
  {
   "cell_type": "markdown",
   "id": "e26e1a70-3aba-402f-835f-cf7761f7621e",
   "metadata": {},
   "source": [
    "**Conventions**: when naming, only use lowercase letters, numbers and _ to separate words"
   ]
  },
  {
   "cell_type": "markdown",
   "id": "9454f5e9-0e42-4389-a5e9-1b514d791742",
   "metadata": {},
   "source": [
    "**LO5: create and organize subsets of tabular data using filter, select, arrange, and slice**"
   ]
  },
  {
   "cell_type": "markdown",
   "id": "47efa3a2-0fb5-46bd-a034-7876699190c7",
   "metadata": {},
   "source": [
    "**filter**: obtain a smaller set of rows with specific values (ex: only want rows with the year 2022)"
   ]
  },
  {
   "cell_type": "markdown",
   "id": "a59f0d3f-de28-40e6-8268-1f8bfd9a601e",
   "metadata": {},
   "source": [
    "**select**: obtain a smaller set of columns (ex: only want year and pollutants)"
   ]
  },
  {
   "cell_type": "markdown",
   "id": "145c8de0-d268-44ef-b349-e903b86e4af2",
   "metadata": {},
   "source": [
    "**code for filter**: filter(name of data, year==\"2022\")\n",
    "\n",
    "logical statement: the secod argument in the function, evaluates to TRUE or FALSE, in filter, it evaluates to TRUE."
   ]
  },
  {
   "cell_type": "markdown",
   "id": "7d80913d-0e3a-4fae-b176-9319d9c6331d",
   "metadata": {},
   "source": [
    "\" \" is used to tell R this is a **string** value, not a special word in the R language"
   ]
  },
  {
   "cell_type": "markdown",
   "id": "59f730b6-4030-4793-b1f5-384a7fe72c75",
   "metadata": {},
   "source": [
    "**code for select**: select(data name, column1, column2)"
   ]
  },
  {
   "cell_type": "markdown",
   "id": "a70d6e6a-bd6f-4800-9bdd-92eed863be99",
   "metadata": {},
   "source": [
    "**arrange**: **order the rows** of data frame by **values of a particular column**"
   ]
  },
  {
   "cell_type": "markdown",
   "id": "96246043-55e8-4e89-8084-5bcd6c17364b",
   "metadata": {},
   "source": [
    "**code for arrange**: arrange(dataframe, by=desc(column))"
   ]
  },
  {
   "cell_type": "markdown",
   "id": "717032b9-f00c-4665-9e14-e32d5cce752e",
   "metadata": {},
   "source": [
    "-Descending: (desc()), from largest to smallest\n",
    "\n",
    "**arrange function automatically orders rows in ascending**"
   ]
  },
  {
   "cell_type": "markdown",
   "id": "347f451a-3fad-4576-9d57-0bc09e1261af",
   "metadata": {},
   "source": [
    "**slice**: function which selects rows according to **row number**"
   ]
  },
  {
   "cell_type": "markdown",
   "id": "168c9e60-5735-4a08-944e-f609da7fbcc5",
   "metadata": {},
   "source": [
    "**code for slice**: slice(dataframe, 1:10)\n",
    "\n",
    "-the second argument tells R the raws to keep is from 1 to 10"
   ]
  },
  {
   "cell_type": "markdown",
   "id": "a45f8398-4da8-43f0-8ba8-4ec4bfea5d57",
   "metadata": {},
   "source": []
  },
  {
   "cell_type": "markdown",
   "id": "f817a03a-e8d3-4d1e-8997-621169c6c642",
   "metadata": {},
   "source": [
    "**LO6: add and modify columns in tabular data using mutate**"
   ]
  },
  {
   "cell_type": "markdown",
   "id": "b02478b2-5476-4718-abfe-ecf5d312317e",
   "metadata": {},
   "source": [
    "**mutate**: perform a calculation, making use of existing columns to compute a new column"
   ]
  },
  {
   "cell_type": "markdown",
   "id": "9f69d5bc-b43c-4c54-9cc4-6fa3558e45b9",
   "metadata": {},
   "source": [
    "**code for mutate**: mutate(dataframe, new column name = the equation)"
   ]
  },
  {
   "cell_type": "markdown",
   "id": "0b0f37ad-9e55-4f84-86c6-cd5b25466fb9",
   "metadata": {},
   "source": [
    "col_double means that the data in this column is a number-type, specifically real numbers (meaning that these values can contain decimals)\n",
    "\n",
    "col_integer means that the data in this column is integers (whole numbers)\n",
    "\n",
    "col_character means that the data in this column contains text (e.g., letter or words)"
   ]
  },
  {
   "cell_type": "markdown",
   "id": "05e014ad-7c34-47c0-8068-1cf95ede57fe",
   "metadata": {},
   "source": [
    "**LO7: visualize data with a ggplot bar plot**"
   ]
  },
  {
   "cell_type": "markdown",
   "id": "94afc09d-2149-492c-b5f7-3cbafe9ffda4",
   "metadata": {},
   "source": [
    "**Benefits of visualization**: great tool for summarizing information, help effectively communicate with audience."
   ]
  },
  {
   "cell_type": "code",
   "execution_count": 36,
   "id": "240c968a-ca0e-4906-93b8-e2240a679666",
   "metadata": {},
   "outputs": [],
   "source": [
    "# hashtag provide comments"
   ]
  },
  {
   "cell_type": "markdown",
   "id": "315c42cb-0772-44d6-a254-f83bc483f2c1",
   "metadata": {},
   "source": [
    "?filter\n",
    "\n",
    "this is a way to pull up the documentation for most functions."
   ]
  },
  {
   "cell_type": "code",
   "execution_count": null,
   "id": "54a7867b-9630-4482-b365-26de68708c48",
   "metadata": {},
   "outputs": [],
   "source": []
  },
  {
   "cell_type": "code",
   "execution_count": null,
   "id": "aa913552-ab00-4415-a859-d2681d1254b8",
   "metadata": {},
   "outputs": [],
   "source": []
  },
  {
   "cell_type": "markdown",
   "id": "9f3a8e8c-e1f0-46d9-858c-011a2ef9033f",
   "metadata": {},
   "source": [
    "**Chapter 2 (reading in data locally and from the web)**"
   ]
  },
  {
   "cell_type": "markdown",
   "id": "70164148-659c-48fe-b65b-16a3367211fa",
   "metadata": {},
   "source": [
    "**Important packages for chapter 2**\n",
    "\n",
    "- readxl: provides the read_excel() function to load sheet from excel file into R\n",
    "- DBI: provides dbConnect() function to connect SQLite database. provides dbListTables() function to list the tables in a database\n",
    "- dbplyr: provides tbl() function to help create a reference to a database table searchable. provides collect() to retrieve data from a database query and bring it to R\n",
    "- RPostgres: allows us to work on PostgreSQL databases"
   ]
  },
  {
   "cell_type": "markdown",
   "id": "440aa768-5acd-4797-a165-c1799118c8b3",
   "metadata": {},
   "source": [
    "**LO1: Define the types of path and use them to locate files**"
   ]
  },
  {
   "cell_type": "markdown",
   "id": "f919c2c8-5f26-4641-af42-0fa697020c84",
   "metadata": {},
   "source": [
    "- a file could live local(computer), or remoate (internet), different paths"
   ]
  },
  {
   "cell_type": "markdown",
   "id": "53bf6e7a-5235-4f7b-8aa8-7c0a7b3448af",
   "metadata": {},
   "source": [
    "**1. Relative file path**: where the file is with respect to the folder (**working directory**) currently in, on the computer."
   ]
  },
  {
   "cell_type": "markdown",
   "id": "d1101cd4-5e65-4ade-947f-5f6d80b124ed",
   "metadata": {},
   "source": [
    "**2. Absolute file path**: file with respect to the base (root) folder of computer's firesystem, regardless of where you are working.\n",
    "\n",
    "- **Always start with \"/\"**"
   ]
  },
  {
   "cell_type": "markdown",
   "id": "b6729adf-ba81-4efb-97cd-ad9836042cbd",
   "metadata": {},
   "source": [
    "**\" . \" means reach a file from current directory (folder)**\n",
    "\n",
    "**\" .. \" means go back to previous directory**"
   ]
  },
  {
   "cell_type": "markdown",
   "id": "c78225d9-2826-45cb-a334-8f206488f7c4",
   "metadata": {},
   "source": [
    "**Generally**, it is better to use relative paths. B/C it helps endure the code can be run on a different computer, and is shorter and easier to write. (able to run on different computer as the path is same on any, but for absolute, depending on the name the person gave to the root folders, may be different."
   ]
  },
  {
   "cell_type": "markdown",
   "id": "80d816e1-b672-4442-9127-1f4750527111",
   "metadata": {},
   "source": [
    "**LO2: read data into R from various types of path using following functions**"
   ]
  },
  {
   "cell_type": "markdown",
   "id": "6c9d0d4f-5206-4979-81d8-a178fb6fe581",
   "metadata": {},
   "source": [
    "Plain text file: a document containing only text"
   ]
  },
  {
   "cell_type": "markdown",
   "id": "411dcc92-1f63-46c9-a4b6-cbaeaf3ecde0",
   "metadata": {},
   "source": [
    "**1. read_csv**: for reading tabular data with comma separated values\n",
    "- the delimeter(separator): \",\"\n",
    "\n",
    "code: canlang_data <- read_csv(\"data/can_lang.csv\")\n",
    "- data/ is put before file's name because the data set is located in a sub-folder called data, relative to where we are running our R code.\n"
   ]
  },
  {
   "cell_type": "markdown",
   "id": "1a8f182d-2274-43cd-b305-31d19a771638",
   "metadata": {},
   "source": [
    "**skipping rows when reading data** : There sometimes may be extra informations about the data included at the top of data file(metadata). NO delimeters. BUT not intended to be read into a data frame cell with the tabular data.\n",
    "\n",
    "- in this case, use skip argument: read_csv(\"data/name\", skip=3)"
   ]
  },
  {
   "cell_type": "markdown",
   "id": "e4818ab1-01aa-4036-93cb-a37bd40fbb71",
   "metadata": {},
   "source": [
    "**2. read_tsv**: tsv=tab-separated values files. \n",
    "\n",
    "code: read_tsv(\"data/can_lang.tsv\")"
   ]
  },
  {
   "cell_type": "markdown",
   "id": "50af3e62-a3d0-4546-80d0-f2718a5c4144",
   "metadata": {},
   "source": [
    "**3. read_delim**: a more general function, including read_csv, read_tsv which are special cases. NEED to specify a **delimeter**. "
   ]
  },
  {
   "cell_type": "markdown",
   "id": "b3a19419-7409-4c3c-8f69-1ba38825fe0b",
   "metadata": {},
   "source": [
    "- delim = \"\\t\" is for tab-separated values file\n",
    "- delim = \", \" is for comma-separated values file\n",
    "- delim = \" ; \" is for semicolon-separated values file"
   ]
  },
  {
   "cell_type": "markdown",
   "id": "b6a713ff-191d-42dc-a541-3395e3f9e32a",
   "metadata": {},
   "source": [
    "**data frames need to have column names**: use argument col_names= \" \", \" \" is an option\n",
    "use function rename(data, **new_name=old_name**, column2= X2) is also an option"
   ]
  },
  {
   "cell_type": "markdown",
   "id": "6a32e74a-2f9e-4956-800a-5cbc4d1f2df6",
   "metadata": {},
   "source": [
    "**4. a)read tabular data directly from URL**"
   ]
  },
  {
   "cell_type": "markdown",
   "id": "b7291b40-95f7-4050-a9d9-7d74dd6c0f84",
   "metadata": {},
   "source": [
    "(URL): Uniform Resource Locator"
   ]
  },
  {
   "cell_type": "markdown",
   "id": "bac0fc3a-1fa7-468b-9be7-ecfb1b37f5dd",
   "metadata": {},
   "source": [
    "**code**: url <- \"https://raw.githubusercontent.com/UBC-DSCI/data/main/can_lang.csv\"\n",
    "\n",
    "canlang_data <- read_csv(url)"
   ]
  },
  {
   "cell_type": "markdown",
   "id": "a117a3d2-5f40-4506-a0c7-de1e9fd8029b",
   "metadata": {},
   "source": [
    "**4. b)downloading data from a URL**\n",
    "\n",
    "for URL that are not nicely formatted to directly use any functions\n",
    "\n",
    "**code**: url <- \"https....\"\n",
    "\n",
    "download.file(url,\"data/can_lang.csv\")\n",
    "\n",
    "2nd argument is the path to store the downloaded file"
   ]
  },
  {
   "cell_type": "markdown",
   "id": "a96e7bec-b6fe-4aec-9ebd-817d08a796e6",
   "metadata": {},
   "source": [
    "**5. reading tabular data from Microsoft Excel file**"
   ]
  },
  {
   "cell_type": "markdown",
   "id": "175ae57c-0c5b-4f99-bc32-6570f4ec6d27",
   "metadata": {},
   "source": [
    "- the file name extension is .xlsx\n",
    "- this is not a plain text file\n",
    "- use library(readxl)\n",
    "- use function read_excel()\n",
    "- use sheet argument to specify the sheet number or name\n",
    "- use range argument to specify cell ranges (for when single sheet contains multiple tables)"
   ]
  },
  {
   "cell_type": "markdown",
   "id": "929633ff-7d39-40b5-ac4d-ce73fee73da4",
   "metadata": {},
   "source": [
    "**why should we always explore the data file before importing into R**\n",
    "\n",
    "- helps me decide which function and arguments I will need to load the data into R successfuly."
   ]
  },
  {
   "cell_type": "markdown",
   "id": "c27a392c-6d93-4763-95c2-1c55c217b744",
   "metadata": {},
   "source": [
    "**6. reading data from a database**\n",
    "\n",
    "**database**: a type to data storage -> almost all database management systems employ SQL (strcutured query language) to obtain data from database"
   ]
  },
  {
   "cell_type": "markdown",
   "id": "deaa84cc-b9ec-4980-990d-86660a305b84",
   "metadata": {},
   "source": [
    "a) SQLite database are usually stored and accessed locally on one computer from a file with a .db extension or .sqlite extension.\n",
    "\n",
    "- NOT plain text files, CANNOT be read in a plain text editor\n",
    "1. connect R to the database using dbConnect() function from DBI package\n",
    "- dbConnect() opens up a communication channel that R can use to send SQL commands to database\n",
    "\n",
    "**library(DBI)\n",
    "canlang_conn <- dbConnect(RSQLite::SQLite(), \"data/can_lang.db\")**\n",
    "\n",
    "- can use dbListTables(connect database) to list the table names in the database\n",
    "\n",
    "2. **tbl(canlang_conn, \"lang\")** function allows us to reference this table so we can perform operations and work with data stored in databases as if they were just regular data frames WITHOUT having to store all its data in R's memory.\n",
    "3. head() function allows us to see the first few rows of a dataset\n",
    "4. use **collect** function to download the transformed data from the database and store it in a dataframe.\n",
    "5. write data from R to a .csv file: use write_csv(the collected dataframe, \"data/newname.csv\")"
   ]
  },
  {
   "cell_type": "markdown",
   "id": "dd086335-9056-4287-9864-9efa3de06728",
   "metadata": {},
   "source": [
    "**Reading data from a PostgreSQL database**\n",
    "\n",
    "- designed to be used and accessed on a network -> have to provide more information to R when connecting to Postgres databases\n",
    "\n",
    "Example: \n",
    "\n",
    "library(RPostgres)\n",
    "\n",
    "***canmov_conn <- dbConnect(RPostgres::Postgre(), dbname = \"can_mov_db\",\n",
    "                        host = \"fakeserver.stat.ubc.ca\", port= 5432, user = \"user0001\",       password = \"abc123\")***"
   ]
  },
  {
   "cell_type": "markdown",
   "id": "1e232efd-ead5-41a6-a3ea-e3433d719ed4",
   "metadata": {},
   "source": [
    "**Advantages of database:**\n",
    "1. allow storing large data set across multiple computers with backups\n",
    "2. Allow multiple users to access them simultaneously and remotely without conflicts and errors\n",
    "3. provide mechanisms for ensuring data integrity and validating input\n",
    "4. provide security to keep data safe "
   ]
  },
  {
   "cell_type": "markdown",
   "id": "2705ee7e-b6f8-4982-a688-a4e9104f5617",
   "metadata": {},
   "source": []
  },
  {
   "cell_type": "code",
   "execution_count": null,
   "id": "871d230c-597a-4e43-888c-742a8d6c9caa",
   "metadata": {},
   "outputs": [],
   "source": []
  },
  {
   "cell_type": "markdown",
   "id": "61fb9fc4-d747-45d0-8ab3-882fadcbd685",
   "metadata": {},
   "source": [
    "**Chapter 3 (Data Wrangling)**"
   ]
  },
  {
   "cell_type": "markdown",
   "id": "7e737733-e49b-4ee7-83d2-60a8556427f9",
   "metadata": {},
   "source": [
    "**Important Packages for Chapter 3**\n",
    "\n",
    "- dplyr: part of tidyverse metapackage (if loaded tidyverse, then do not need to load this)\n",
    "\n",
    "  ->provides functions like (select, filter, mutate, arrange, summarize, and group_by)\n",
    "- purrr: part of the tidyverse metapackage.\n",
    "- allows us to use the map() and map_df() functions"
   ]
  },
  {
   "cell_type": "markdown",
   "id": "cb5cc8bd-59fa-4991-8de4-95b90ef82dda",
   "metadata": {},
   "source": [
    "**LO1: define the term \"tidy data\"**"
   ]
  },
  {
   "cell_type": "markdown",
   "id": "ba6808bc-2ecb-4db0-aaa7-0b6fdb6c8f18",
   "metadata": {},
   "source": [
    "**Criteria for Tidy Data!!**"
   ]
  },
  {
   "cell_type": "markdown",
   "id": "2c84a207-749c-4e06-8f5b-c8d05fde781f",
   "metadata": {},
   "source": [
    "1. Each row is a single observation\n",
    "2. Each column is a single variable\n",
    "3. Each value is a single cell"
   ]
  },
  {
   "cell_type": "markdown",
   "id": "e1d2183a-cece-425e-9690-b70adb3b1287",
   "metadata": {},
   "source": [
    "**LO2: discuss the advantages of storing data in a tidy data format**"
   ]
  },
  {
   "cell_type": "markdown",
   "id": "361410d2-d4b2-498d-b3fb-bfc2acabf16c",
   "metadata": {},
   "source": [
    "- tidy data is a single, consistent format that almost every function in tidyverse recognizes, making it easy to manipulate, plot, and analyze using the same tools.\n",
    "- tidy data is easier for human to interpret.\n",
    "- Untidy data require more complex code that are easy to have errors and hard for others to understand."
   ]
  },
  {
   "cell_type": "markdown",
   "id": "36820d6f-ad2d-41ea-a39b-bfaafd2f566e",
   "metadata": {},
   "source": [
    "**LO3: define what vectors, lists, and data frames are in R, and describe how they relate to each other**"
   ]
  },
  {
   "cell_type": "markdown",
   "id": "56727db3-0373-4832-a406-5e3ce4201301",
   "metadata": {},
   "source": [
    "**data frame**: table-like structure for storing data in R. (stores observations, variables and their values)\n",
    "\n",
    "- variable: a characteristic, number, or quantity that can be measured\n",
    "- observation: all of the measurements for a given entity\n",
    "- value: a single measurement of a single variable for a given entity\n"
   ]
  },
  {
   "cell_type": "markdown",
   "id": "5de43e4f-dc22-487d-8a2d-9bbb35dec038",
   "metadata": {},
   "source": [
    "**what is a vector?**\n",
    "\n",
    "- vectors are objects that can contain one or more elements that MUST ALL BE THE SAME DATA TYPE\n",
    "- you can use c() function to create vectors in R: vector_name <- c(\"200\", \"300\", \"400\")"
   ]
  },
  {
   "cell_type": "markdown",
   "id": "42768657-924f-4260-82d1-93686c34517b",
   "metadata": {},
   "source": [
    "**what is a list?**\n",
    "\n",
    "- Lists are also objects with multiple, ordered elements, BUT the elements in a list **DO NOT** have to be the **same type**."
   ]
  },
  {
   "cell_type": "markdown",
   "id": "ca9351a1-2fca-4444-b896-9fc7cb2e9480",
   "metadata": {},
   "source": [
    "**data frames**: is just a special kind of list:\n",
    "\n",
    "- each element itself must either be a vector or a list\n",
    "- each element (vector or list) must have the same length"
   ]
  },
  {
   "cell_type": "markdown",
   "id": "348572a6-05b9-4000-ad60-91f9d3ad8665",
   "metadata": {},
   "source": [
    "**Tibbles are special kind of data frames that more enhanced**"
   ]
  },
  {
   "cell_type": "markdown",
   "id": "e6392a67-e0af-4268-814d-fa3d6575f14d",
   "metadata": {},
   "source": [
    "**LO4: describe the common types of data in R and their uses**\n",
    "\n",
    "**Data Type**\n",
    "\n",
    "- **character: (chr)**, letters or numbers surrounded by quotes, ex: \"1\", \"world\"\n",
    "- **double (dbl)**, numbers with decimal values, ex: 1.2333\n",
    "- **integer (int)**, whole numbers, no decimals, ex: 1L,20L (\"L\" tells R to store it as int)\n",
    "- **logical (lgl)**, either true or false, ex: TRUE, FALSE\n",
    "- **factor (fct)**, used to represent data with a limited number of values(usually categories), ex: color(**categorical**) variable **with levels** red, green, orange. "
   ]
  },
  {
   "cell_type": "markdown",
   "id": "2785accc-abb0-4444-9f08-0daec73d7ae7",
   "metadata": {},
   "source": [
    "**Even though factors sometimes **look** like characters, they are not used to represent text, words, names, and paths in the way characters are. Factors help us encode variables that represent **categories** "
   ]
  },
  {
   "cell_type": "markdown",
   "id": "7078d824-b0e3-4d48-aa39-cf4a0805a3d3",
   "metadata": {},
   "source": [
    "**LO5: Use the following functions for their intended data wrangling tasks**"
   ]
  },
  {
   "cell_type": "markdown",
   "id": "0625ef06-4f5f-4a53-85d6-304c97b88974",
   "metadata": {},
   "source": [
    "**1. pivot_longer**\n",
    "\n",
    "- combines columns, making data frame longer and narrower.\n",
    "- **combine** columns that are really part of the **same variable** but currently stored in separated columns.\n",
    "\n",
    "pivot_longer(dataframe,\n",
    "            cols= columns to combine,\n",
    "            names_to= \"new column 1\",\n",
    "            values_to= \"new column 2\")\n",
    "\n",
    "- input for 1st argument is the data frame\n",
    "- input for 2nd argument are the names of the columns we want to combine into a single column\n",
    "- input for 3rd: the new column1 that will be created, values come from the **names** of the columns that we want to combine\n",
    "- input for 4th: the new column2 that will be created, values will come from the **values** of the combines columns"
   ]
  },
  {
   "cell_type": "markdown",
   "id": "b567b7f6-b76d-4078-8984-29e3a22b1dd5",
   "metadata": {},
   "source": [
    "**2. pivot_wider**\n",
    "\n",
    "- if there's one type of observation spread across multiple rows rather than a single row\n",
    "- use pivot_wider to increase the number of columns and decrease the number of rows\n",
    "\n",
    "pivot_wider(data frame,\n",
    "            names_from = col_name_1,\n",
    "            values_from = col_name_2)\n",
    "\n",
    "- input 1st for the dataframe\n",
    "- input 2nd is **the column** that the **names** of the new columns take from\n",
    "- input 3rd is **the column's values** that the **values** of the new columns take from"
   ]
  },
  {
   "cell_type": "markdown",
   "id": "8ae0c816-1e76-4ecd-8c5a-41197326e2af",
   "metadata": {},
   "source": [
    "**3. separate**\n",
    "\n",
    "- use this to deal with multiple delimeters (multiple values stored in the same cell)\n",
    "\n",
    "separate(dataframe,\n",
    "    col= col_name,\n",
    "    into = c(\"col_name1\", \"col_name2\"),\n",
    "    sep = \"/\")\n",
    "\n",
    "  1. specify the column we want to split\n",
    "  2. a character vector of the new column names we would like the split columns to have\n",
    "  3. the separator on which to split"
   ]
  },
  {
   "cell_type": "markdown",
   "id": "acd33c1e-74ea-48f1-b034-d772b7cbc10c",
   "metadata": {},
   "source": [
    "**4. select**\n",
    "\n",
    "- use to extract a range of columns\n",
    "- if simply typing all of the column names needed to select may be time-consuming. **instead**, use a \"select helper\"\n",
    "  \n",
    "**select helpers**: **operators** that make it easier for us to select columns\n",
    "\n",
    "ex: to chose a range of columns, use **(:)** to denote the range. \n",
    "\n",
    "ex: select(dataframe, starts_with(\" \")) **(starts_with())** is a select helper to choose columns with names start with a particular word or letter.\n",
    "\n",
    "ex: select(dataframe, contains(\"_\")), **contains()** is a select helper to choose column names that contain a particular thing.\n"
   ]
  },
  {
   "cell_type": "markdown",
   "id": "9a9b8f4d-cd0d-4fec-a443-87920fd21f4f",
   "metadata": {},
   "source": [
    "**5. filter**\n",
    "\n",
    "- use filter to extract rows where logical statement evaluates to TRUE.\n",
    "\n",
    "ex: extracting rows that have a certain value with ==, filter(dataframe, column == \"value\")\n",
    "\n",
    "ex: extracting rows that do not have a certain value with !=, filter(dataframe, column != \"value\")\n",
    "\n",
    "ex: extracting rows satisfying multiple conditions using (,) or (&), \n",
    "\n",
    "filter(dataframe, colum1 == \"value1\", column2 == \"value2\")\n",
    "\n",
    "ex: extracting rows satisfying **at least one** condition using (|),\n",
    "\n",
    "filter(dataframe, column1 == \"value1\" | column1 == \"value2\")\n",
    "\n",
    "ex: extracting rows with values in a vector using (%in%), \n",
    "\n",
    "similar to using (|), but easier as it is summarized in a vector. \n",
    "**different** from == because == means choosing the values that only match that first element listed. But %in% means R will choose the values that can match any of the elements in the vector.\n",
    "\n",
    "vector_name <- c(\"value1\", \"value2\", \"value3\")\n",
    "filter(dataframe, colum_name %in% vector_name)\n",
    "\n",
    "ex: extracting rows above or below a threshold using > and <\n",
    "\n",
    "filter(dataframe, column > 2345)"
   ]
  },
  {
   "cell_type": "markdown",
   "id": "28cb64f4-870e-4719-b11f-f690fa533be7",
   "metadata": {},
   "source": [
    "**6. mutate**\n",
    "\n",
    "Ex: using mutate to modify columns\n",
    "\n",
    "mutate(dataframe, new_name = as_factor(column))\n",
    "\n",
    "- in here, we can use mutate to modify the elements in our column into factor.\n",
    "\n",
    "Ex: using mutate to create new columns\n",
    "\n",
    "mutate(dataframe, new_column = operation between old columns or smth)"
   ]
  },
  {
   "cell_type": "markdown",
   "id": "e44f7903-7d44-46c4-b6d9-d32605066cc4",
   "metadata": {},
   "source": [
    "**7. pipe operator |>**\n",
    "\n",
    "- used to combine functions, results in a **cleaner, and easier to follow code**\n",
    "- takes the output from function on the left and passes it to the first argment to function on the right\n",
    "\n",
    "**reasons why making multiple lines of code and storing temporary objects is not preffered**\n",
    "\n",
    "- difficult for readers to understand\n",
    "- tricks the reader to think the temporary intermediate objects are important\n",
    "- reader has to look through and find where the intermediate objects are used"
   ]
  },
  {
   "cell_type": "markdown",
   "id": "a206d6d7-d0d4-4443-9b93-b72236ab2fcb",
   "metadata": {},
   "source": [
    "**compose function is also not a good idea**\n",
    "\n",
    "- the functions compose in the opposite order in which they are computed by R\n",
    "- long code makes it difficult for readers to understand"
   ]
  },
  {
   "cell_type": "markdown",
   "id": "49c79628-ff9d-4af7-8dee-a3525faf186e",
   "metadata": {},
   "source": [
    "**When should we store temporary objects**\n",
    "\n",
    "- store a temperary object before feeding it to plot function, so you can look at the wrangled data before plotting it to make sure there are no errors.\n",
    "- piping many functions can be difficult to debug"
   ]
  },
  {
   "cell_type": "code",
   "execution_count": null,
   "id": "df9338ee-2f36-4660-97cb-a1755007de6e",
   "metadata": {},
   "outputs": [],
   "source": []
  },
  {
   "cell_type": "markdown",
   "id": "99048e9f-ed76-4472-9d93-d36884a63632",
   "metadata": {},
   "source": [
    "**8. summarize**\n",
    "\n",
    "- use summarize to calculate summary statistics:\n",
    "\n",
    "ex: summarize(dataframe, new column name = max(old column))\n",
    "\n",
    "in here, min and max functions can be used to calculate the maximum value from the column specified.\n",
    "\n",
    "**Basic summary functions**\n",
    "\n",
    "- min\n",
    "- max\n",
    "- mean\n",
    "- sum\n",
    "\n",
    "**if there's NA in the column's element:**\n",
    "\n",
    "- add argument na.rm= TRUE into the summary functions to remove the NA."
   ]
  },
  {
   "cell_type": "markdown",
   "id": "766391c1-71b2-42bb-8e9c-f0ed2445dfe5",
   "metadata": {},
   "source": [
    "**9. group_by() + summarize()**\n",
    "\n",
    "- this combination is used when you want to apply the same function to groups of rows\n",
    "\n",
    "group_by(dataframe, col_names) |>\n",
    "summarize(\n",
    "            min_col_name1 = min(col_name1),\n",
    "            max_col_name2 = max(col_name2),\n",
    "            total_volume = mean(total_volume, na.rm =TRUE))\n",
    "\n",
    "- group_by() takes an existing data set and converts it into a grouped data set where operations are performed \"by group\".\n",
    "- summarize() works analogous to mutate() function, EXCEPT instead of adding columns to an existing data frame, it creates a new data frame. USED to calculate **summary statistics** (max, min, mean) for each group of rows created with group_by()\n",
    "- pairing these functions together can let you summarize values for subgroups within a data set\n",
    "- group_by() creates its own columns and summarize() creates its own columns which then both combine to form a dataset"
   ]
  },
  {
   "cell_type": "markdown",
   "id": "87d902a7-60a5-4347-88e6-cd02601e16d0",
   "metadata": {},
   "source": [
    "**10. summarize() + across ()**\n",
    "\n",
    "- to calculate summary statistics on many columns\n",
    "\n",
    "summarize(across(column1:column4, ~max(.x, na.rm=TRUE))"
   ]
  },
  {
   "cell_type": "markdown",
   "id": "1298d705-89e2-4560-a78b-f8a05bff3c30",
   "metadata": {},
   "source": [
    "**11. map(), map_dfr()**\n",
    "\n",
    "- alternative to summarize+across, for applying function to many columns\n",
    "- map takes two arguments, an object(a vector, data frame or list) and the function that you would like to apply\n",
    "- map() does not give dataframe, it gives list instead\n",
    "- map_dfr() gives data frame, combining row-wise"
   ]
  },
  {
   "cell_type": "markdown",
   "id": "6cbc9086-e790-48a0-9216-aa062660fe68",
   "metadata": {},
   "source": [
    "**12. mutate + across**\n",
    "\n",
    "- ex: when converting units of measurements across many columns\n",
    "- or we want to change every value in data from to another data type\n",
    "\n",
    "mutate(across(dataframe, column1:column4, as.integer))"
   ]
  },
  {
   "cell_type": "markdown",
   "id": "c3231ede-99e1-4496-878d-6c30932716ec",
   "metadata": {},
   "source": [
    "**13. rowwise + mutate**\n",
    "\n",
    "- apply function across columns but within one row\n",
    "- Ex: we want the max value from different columns in one row (ie find the maximum from values in one row)\n",
    "\n",
    "rowwise(dataframe) |>\n",
    "mutate(maximum= max(c(column1, column2, column3, column4)))"
   ]
  },
  {
   "cell_type": "markdown",
   "id": "2ffd2d10-236a-4ff6-a408-292119b2b96d",
   "metadata": {},
   "source": [
    "**similar to group_by(), rowwise() doesn't appear to do anything when it is called by itself, but we can apply rowwise with other functions to change how these other functions operate.**"
   ]
  },
  {
   "cell_type": "code",
   "execution_count": null,
   "id": "2c26dc24-71a3-4d9b-9dd7-8ffc058e63a4",
   "metadata": {},
   "outputs": [],
   "source": []
  },
  {
   "cell_type": "code",
   "execution_count": null,
   "id": "dcf6c348-5c59-498a-840e-3a9a118d756d",
   "metadata": {},
   "outputs": [],
   "source": []
  },
  {
   "cell_type": "markdown",
   "id": "591486ef-a723-44c4-9d14-22f124d5e95b",
   "metadata": {},
   "source": [
    "**Chapter 4 (Effective data visualization)**"
   ]
  },
  {
   "cell_type": "markdown",
   "id": "9762a4e7-36df-456c-a954-6c0b78d588f7",
   "metadata": {},
   "source": [
    "**Important packages for chapter 4.0**\n",
    "\n",
    "- `ggplot2`\n",
    "  - part of tidyverse metapackage. (if loaded tidyverse, then do not need to load this)\n",
    "  - This package allows you to create all sorts of visualizations of data.\n",
    "- `RColorBrewer`\n",
    "  - This package provides the ability to pick custom colour schemes some of which are colourblind friendly.\n",
    "- `lubridate`\n",
    "  - part of the tidyverse metapackage. (still need to load this package **individualy**)\n",
    "  - This package is a tool to convert character strings to date vectors."
   ]
  },
  {
   "cell_type": "markdown",
   "id": "d016d5c3-e84a-461e-95c1-ec2d19ca60b2",
   "metadata": {},
   "source": [
    "**Basic functions used to aid data visualization**\n",
    "\n",
    "- `n()`\n",
    "  - number of rows/observations in the data\n",
    "  - usually used like `group_by()` + `summarize(n = n())`to give you the count of the rows for each group\n",
    "- `slice_max(data, order_by = ..., n = ...)`\n",
    "  - `data`: what data frame we are using\n",
    "  - `order_by =`: which column we select to order, default is largest first\n",
    "  - `n`: number of rows selected\n",
    "  - This function is used to select only the top `n` data rows ordered by some column from a data frame to generate a new data frame\n",
    "  - same purpose as arrange()+slice(), but more specific and efficient\n",
    "  - `as.factor()`: simply converts an existing vector to a factor\n",
    "  - `factor(col_name, levels = c(...,...,...))`: To encode a vector as a factor; allows you to specify the values, and whether they are ordered or not."
   ]
  },
  {
   "cell_type": "markdown",
   "id": "aade2fa6-2753-49ca-9ad5-7802396fea2a",
   "metadata": {},
   "source": [
    "**LO1: Describe when to use what kinds of visualizations to answer specific questions using a data set**"
   ]
  },
  {
   "cell_type": "markdown",
   "id": "646d9be3-2716-4c45-a901-f28d406d2acc",
   "metadata": {},
   "source": [
    "Great visualizations clearly answers your question without distraction or additional explanantion."
   ]
  },
  {
   "cell_type": "markdown",
   "id": "485b306b-b90d-4fac-b868-67b51763d336",
   "metadata": {},
   "source": [
    "**4 Kinds of visualization**:\n",
    "1. **scatter plots**: visualizae the relationship between **two quantitative variables**\n",
    "2. **line plots**: visualize **trends** with respect to an **independent ordered** quantity (e.g., time)\n",
    "3. **bar plots**: visualize **comparisons of amounts**\n",
    "4. **histograms**: visualize the distribution of **one quantitative variable** (e.g, all its possible values and how often they occur)"
   ]
  },
  {
   "cell_type": "markdown",
   "id": "ab775f28-7511-4d67-9865-cf97f5d7177f",
   "metadata": {},
   "source": [
    "**Avoid**\n",
    "- avoid using **pie charts**, better to use bars, as its easier to compare bar heights than pie slice sizes. \n",
    "- avoid using **3D visualizations**, as they are hard to understand when converted to 2D image format\n",
    "- do not use **tables** to make **numerical comparisons**"
   ]
  },
  {
   "cell_type": "markdown",
   "id": "79dca0ba-0624-4f1e-b9de-8b01d92306a6",
   "metadata": {},
   "source": [
    "**LO2: Given a data set and a question, select from the above plot types and use R to create a visualization that best answers the question**\n",
    "\n",
    "- bar plots ex: Compare the amount of poop different dog breeds have in 2020.\n",
    "- scatter plots ex: Visualize the relationship between BMI and health insurance cost.\n",
    "- line plots ex: visualize the trend of CO2 emmision from 2010 to 2020.\n",
    "- histograms ex: visualize the midterm grade distribution in class of 2020."
   ]
  },
  {
   "cell_type": "markdown",
   "id": "f8542100-0433-427f-a739-9b646d2fbadf",
   "metadata": {},
   "source": [
    "**LO3: Effecitve visualizations and rule of thumbs**"
   ]
  },
  {
   "cell_type": "markdown",
   "id": "1aecc627-d88f-4f37-9927-7576dde06580",
   "metadata": {},
   "source": [
    "**Convey the message, minimize the noise!!!**"
   ]
  },
  {
   "cell_type": "markdown",
   "id": "056eeee2-e9b2-490e-b221-8a8517b1e76f",
   "metadata": {},
   "source": [
    "**1. Convey the message**\n",
    "\n",
    "- Make sure the visualization answers the question most simply and plainly as possible.\n",
    "- Use **legends**, **labels** so that your visualization is understandable without reading explanations.\n",
    "- Make sure the **text, symbols, lines...** are big enough to be easily read.\n",
    "- Make sure the data are **clearly visible**\n",
    "- Make sure to **use color schemes** that are **colorblind friendly**\n",
    "- Redundancy can be **helpful**, sometimes conveying the same message in multiple ways reinforces it for the audience."
   ]
  },
  {
   "cell_type": "markdown",
   "id": "920aabe5-c831-4749-9a5c-855ce51fc86b",
   "metadata": {},
   "source": [
    "**2. Minimize noise**\n",
    "\n",
    "- Too many **different colours** can be distracting, create false patterns\n",
    "- **Overplotting** is when marks that present the data **overlap**, prevents you from seeing how many data points are represented in areas of the visualization.\n",
    "- Make plots in the **appropriate size**\n",
    "- **Don't** adjust the axes to zoom in small differences, if the difference is small, show that its small!"
   ]
  },
  {
   "cell_type": "code",
   "execution_count": null,
   "id": "a7c0335a-4d6a-4fe0-8265-d19db203c26a",
   "metadata": {},
   "outputs": [],
   "source": []
  },
  {
   "cell_type": "markdown",
   "id": "c4260183-0325-418f-9972-c180d952c7d6",
   "metadata": {},
   "source": [
    "**General tools used to refine the 4 visualizations**\n",
    "\n",
    "Geometric Objects: specifies how the mapped data should be displayed `geom_*`\n",
    "\n",
    "- `geom_point()` for scatterplot, `geom_line()` for line plot, `geom_histogram()` for histogram, `geom_bar()` for bar plots\n",
    "- `geom_vline(x-intercept)` to add a vertical line to the plot at specified x-intercept\n",
    "  - `geom_vline(xintercept =..., linetype = \"dashed\", size = 1)`\n",
    "- `geom_hline(y-intercept)` add horizontal line at specified y-intercept"
   ]
  },
  {
   "cell_type": "markdown",
   "id": "1981bf60-5158-42e3-98e9-2796fb3b79d1",
   "metadata": {},
   "source": [
    "Scales: Used to modify axis, legends. Adjusts how asthetic mappings are displayed\n",
    "- `scale_x_continuous()` :customize the appearance of continuous variables on the x-axis, allows you to adjust axis labels, breaks, limits, transformations\n",
    "- `scale_y_continuous()` :customize the appearance of continuous variables on the y-axis, allows you to adjust axis labels, breaks, limits, transformations"
   ]
  },
  {
   "cell_type": "markdown",
   "id": "cfb4aeea-88e0-4eb6-ac85-20b6fed7f11c",
   "metadata": {},
   "source": [
    "Asthetic Mappings: tells `ggplot` how the variables in the data frame map to properties of visualization (colour, shape, position, size)\n",
    "- `x`,`y`\n",
    "- `fill`:\n",
    "- `colour`:\n",
    "- `shape`:"
   ]
  },
  {
   "cell_type": "markdown",
   "id": "b389165c-de1d-4975-8e2c-6e4796b1f249",
   "metadata": {},
   "source": [
    "Labelling:\n",
    "\n",
    "- `xlab()`: add labels to the x axis \" \" usually include units and make label name less technical\n",
    "- `ylab()`: add lables to the y axis \" \"\n",
    "- `labs()`: general function for all labels (x, y, legend, colour...)"
   ]
  },
  {
   "cell_type": "markdown",
   "id": "f9bf1c83-1302-43ab-be05-06fcf467db25",
   "metadata": {},
   "source": [
    "Font control and legend positioning:\n",
    "\n",
    "- `theme()`: changes the font size in plots\n",
    "\n",
    "`theme(text = element_text(size = 12))`"
   ]
  },
  {
   "cell_type": "markdown",
   "id": "89376c14-f199-47ca-85c3-375432b60eb7",
   "metadata": {},
   "source": [
    "Flipping axes:\n",
    "\n",
    "- `coord_flip()`:"
   ]
  },
  {
   "cell_type": "markdown",
   "id": "7a0378a7-9df8-40ad-a439-55cb7b34001d",
   "metadata": {},
   "source": [
    "Subplots:\n",
    "\n",
    "- `facet_grid()`: "
   ]
  },
  {
   "cell_type": "code",
   "execution_count": null,
   "id": "4f227430-c14c-4a39-b13a-9904e26692d2",
   "metadata": {},
   "outputs": [],
   "source": []
  },
  {
   "cell_type": "markdown",
   "id": "d9091828-5d0d-49c8-b9bf-934625e6f08a",
   "metadata": {},
   "source": [
    "**`ggplot()` Basics**"
   ]
  },
  {
   "cell_type": "markdown",
   "id": "e6e99781-cd59-4813-a207-1f076805da06",
   "metadata": {},
   "source": [
    "- `ggplot(data,aes(x= , y= , ...)) + geom_...() + ...`\n",
    "  - ggplot takes two arguments.\n",
    "  - 1st argument is the dataframe to visualize\n",
    "  - 2nd argument requires an aesthetic mapping that you would address the properties of the visualizaion with.\n",
    "  - After the ggplot function, different layers are **added** to the plot using `+` instead of `|>`"
   ]
  },
  {
   "cell_type": "markdown",
   "id": "3c6f46e9-53ac-4133-b3d8-1ca04c210f59",
   "metadata": {},
   "source": [
    "- `aes()`\n",
    "  - `x =`: assign variable to x-axis\n",
    "  - `y=`: assign variable to y-axis\n",
    "  - `colour =`: assign different colors by factors of the **categorical variable** (non-numerical, factor) you input in this argument\n",
    "\n",
    "ex: in `aes(..., colour = Column (that has categories, factor))`\n",
    "\n",
    "   - `shape =`: assign different shapes by factors of the **categorical variable** you input in this argument\n",
    "   - `fill =` :(for geom_histogram and geom_bar) what factor is used to color the bars\n",
    "   - `fct_reorder()`: often used with `aes()` to reorder values\n",
    "     - The first argument defines the column to be reordered\n",
    "     - The second argument is the criteria used for reordering\n",
    "     - `fct_reorder() uses **ascending** order by default, can change into descending by `.desc=TRUE`\n",
    "     - EX: `aes(..., y=fct_reorder(column, criteria, .desc=TRUE),...)`"
   ]
  },
  {
   "cell_type": "markdown",
   "id": "53a2e013-7051-4a67-86ff-1a614edfea31",
   "metadata": {},
   "source": [
    "**Note**:\n",
    "\n",
    "- `fill` and `colour` can also be used outside the `aes()` function. This is done when you want to manually assign a colour to your points/bars.\n",
    "- Anything you define in the `aes()` function MUST be labelled in the `labs()` function"
   ]
  },
  {
   "cell_type": "markdown",
   "id": "dc4984c4-c263-4342-9c28-b2972f3f6759",
   "metadata": {},
   "source": [
    "- `geom_...()`\n",
    "  - `geom_bar(stat = \"identity\")`: tells ggplot2 that you will provide the y-values for the barplot, rather than counting the aggregate number of rows for each x value. (which is the default `stat = \"count\"`\n",
    "  - `geom_histogram(position = \"identity\")`: To ensure the histograms for each factor will be overlaid side-by-side, instead of stacked bars (which is default for bar plots or histograms when they are coloured by another categorical variable)"
   ]
  },
  {
   "cell_type": "markdown",
   "id": "23bf4049-0055-4868-a9a7-5e60019974e1",
   "metadata": {},
   "source": [
    "- `...`\n",
    "  - `xlab()`: x-axis label, (can add `\\n` in the name to create line break)\n",
    "  - `ylab()`: y-axis label\n",
    "  - `xlim()`: set the scale limits for the x-axis. `xlim(c(lower boundary, upper boundary))`\n",
    "  - `ylim()`: set the scale limits for the y-axis. `ylim(lower, upper)`\n",
    "  - `theme(text=element_text(size = 20))`: changes the font size in plots. a good start is 20\n",
    "  - `theme(legend.position = \"top\", legend.direction = \"vertical\")`: move the legend to better display the plot. \n",
    "  - `scale_x_log10`: scale the x values to log scale.\n",
    "  - `scale_y_log10`: scale the y values to log scale.\n",
    "  - `scale_color_brewer(palette = \" \")`: allows you to choose the specific colour palette you want from the `RColorBrewer` package\n",
    "  - `scale_fill_manual`: manually select the colour we want to fill our bar into\n",
    "  - `coord_flip()`: swaps x and y coordinate axes, to give more space to labels on the x axis"
   ]
  },
  {
   "cell_type": "markdown",
   "id": "a7b14426-b4db-43de-94bd-27f8d4cf226c",
   "metadata": {},
   "source": [
    "**`facet_grid()`**\n",
    "\n",
    "Facets divide a plot into subplots based on the values of one or more discrete variables.\n",
    "\n",
    "- To facet into rows based on the discrete variable, use `rows = vars(colname)` argument\n",
    "- To facet into columns based on the discrete variable, use `cols = vars(colname)` argument\n",
    "- **Note**, column name must be wrapped by `vars()`"
   ]
  },
  {
   "cell_type": "markdown",
   "id": "e3b8fbe8-fc96-49e2-8d38-17e66c5c8a58",
   "metadata": {},
   "source": [
    "**Why is line plot sometimes better**:\n",
    "\n",
    "- Line plots connect the sequence of x and y coordinates of the observations with line segments, emphasizing their order, as x variable (eg time) has a natural order to it.\n",
    "- issue with scatterplot: overplotting can occur where data points overlap on top of one another, making the informaton presented unclear.\n",
    "\n",
    "**When is scatterplot better**:\n",
    "\n",
    "- scatterplot is good when neither of the two quantitative variables have natural order"
   ]
  },
  {
   "cell_type": "markdown",
   "id": "554b6926-1ca6-4e04-81f6-dbdd8d471b94",
   "metadata": {},
   "source": [
    "**Key characteristics of data**\n",
    "\n",
    "- **Direction**: if the y variable tends to increase when x increases, then y has a **positive** relationship with x. If y tends to **decrease** when x increases, then y has **negative** relationship with x. If y does not **meaningfully** increase or decrease as x increases, then y has **little or no** relationship with x.\n",
    "- **Strength**: if y **reliably** increase, decrease, or stays flat as x increases, then the relationship is **strong**. Otherwise the relationship is **weak**. (Strong when the points are more clustered and look more like \"line\" than a \"cloud\"\n",
    "- **Shape**: if you can draw a stright line roughly through the data points, the relationship is **linear**. Otherwise, it is **nonlinear**"
   ]
  },
  {
   "cell_type": "markdown",
   "id": "a1ba9e1b-0565-456b-a91a-6df69bc25ffe",
   "metadata": {},
   "source": [
    "**Example of visual redundancy**\n",
    "\n",
    "- Conveying the same information with **both scatter point color and shape** - can further improve the clarity of your visualization."
   ]
  },
  {
   "cell_type": "markdown",
   "id": "d2d5d7be-8cc9-486e-b61d-1f7c77601b50",
   "metadata": {},
   "source": [
    "**Bar plots vs Histograms**\n",
    "\n",
    "- It is better to use bar plots to compare value of an amount (size, proportion, count, percentage) across **different groups of categorical variables**\n",
    "- It is better to use histograms when displaying the **mean, or median values**, to show distribution of all individual data points."
   ]
  },
  {
   "cell_type": "markdown",
   "id": "633540b0-139d-4e9c-908f-5b5f597ba088",
   "metadata": {},
   "source": [
    "**Histograms** help us visualize how a particular variable is distributed in a data set by separating the data into bins, and then using vertical bars to show how many data points fell in each bin."
   ]
  },
  {
   "cell_type": "markdown",
   "id": "90ae01cb-b41a-40a4-a632-276940da2529",
   "metadata": {},
   "source": [
    "**Saving the visualization**\n",
    "\n",
    "- Generally, images come in two flavours: **raster** and **vector** formats\n",
    "  - **Raster** images represent as 2D grid of square pixels, each with its own colour\n",
    "    - they are often compressed before storing to take up less space.\n",
    "  - **Lossy** format is if the image cannot be perfectly re-created when loading and displaying\n",
    "  - **Lossless** format allow a perfect display of the original image\n",
    "    - Common **raster image** file types:\n",
    "      - JPEG(.jpg, .jpeg): lossy, usually for photographs\n",
    "      - PNG (.png): lossless, usually for plots, line drawings\n",
    "      - BMP (.bmp): lossless, raw image data, no compression (rare)\n",
    "      - TIFF(.tif, .tiff): typically lossless, no compression used mostly in graphic arts publishing\n",
    "\n",
    "  - **Vector** images are represented as a collection of mathematical objects (lines, surfaces, shapes, curves). When the computer displays the image, it redraws all of the elements using their mathematical formulas.\n",
    "     - Common **vector image** file types:\n",
    "       - SVG (.svg): general-purpose use\n",
    "       - EPS (.eps), general-purpose use (rare)\n",
    "\n",
    "**Raster and vector images have opposing advantages and disadvantages**\n",
    "\n",
    "- Raster image takes same amount of time to load for same sizes images no matter the complexity, vector images takes different time and space to load according to how complex the image is.\n",
    "- You can zoom into/ scale up vector graphics as much as you like without the image looking bad"
   ]
  },
  {
   "cell_type": "markdown",
   "id": "2242a296-71b7-46ea-9ace-d846aaf4fd58",
   "metadata": {},
   "source": [
    "**To save the graph**:\n",
    "\n",
    "- `ggsave(file name, plot name)`: file name could end with .png, .jpg, .bmp, .tiff, .svg"
   ]
  },
  {
   "cell_type": "code",
   "execution_count": null,
   "id": "c489b8b1-c48f-4ec8-afd2-d237264541bb",
   "metadata": {},
   "outputs": [],
   "source": []
  },
  {
   "cell_type": "code",
   "execution_count": null,
   "id": "9b55c7b7-0081-4f0f-99a9-db20d983580e",
   "metadata": {},
   "outputs": [],
   "source": []
  },
  {
   "cell_type": "markdown",
   "id": "b061d9d7-97e5-4ba7-8b7b-119ca9028fe5",
   "metadata": {},
   "source": [
    "**Chapter 12 Collaboration with version control**"
   ]
  },
  {
   "cell_type": "markdown",
   "id": "b174e4df-a1d0-4337-a43d-07982b401174",
   "metadata": {},
   "source": [
    "**LO1: Describe what version control is and why data analysis projects can benefit from it**\n",
    "\n",
    "- **Version Control**: the process of **keeping a record** of **changes** to documents. (**when** changes were made) (**who** made them) throughout the history of development.\n",
    "    \n",
    "**Advantages of version control**\n",
    "1. version control tracks changes to the files in the analysis over the lifespan of the project, include when changes were made and by who. Provides ability to view ealier versions of the project and revert changes.\n",
    "2. Being able to record and view the history of a data analysis project is **important** for understandng how and why descisions were made to use one method.\n",
    "3. Helps with collaboration by sharing edits with others and resolving conflict edits.\n",
    "4. Version control tools usually include a remote repository hosting service (GitHub) that can act as a backup of the local files on computer."
   ]
  },
  {
   "cell_type": "markdown",
   "id": "eba71b52-c023-484c-ad79-90c5abf663aa",
   "metadata": {},
   "source": [
    "**TWO things to version control a project**\n",
    "1. **version control system**: the software responsible for tracking changes, sharing changes with others, obtaining changes by others, and resolving conflicting edits. `Git`\n",
    "2. **repository hosting service**: storing a copy of the version-controlled project online, team members can access it remotely, discuss issues and bugs, and distribute final product. `GitHub`"
   ]
  },
  {
   "cell_type": "markdown",
   "id": "182fdc6c-8674-4c33-8a79-de8f2aca23b0",
   "metadata": {},
   "source": [
    "**LO2: Create a remote version control repository on GitHub**\n",
    "\n",
    "**Typically, when we put a project under version control, we create **two** copies of the repository.**\n",
    "1. **local repository**: Primary workspace to create, edit, and delete files. (commonly exist on computer, and also on server **JupyterHub**.\n",
    "2. **remote repository**: Typically stored in a repository hosting service (**GitHub**), where we can easily share it with our collaborators."
   ]
  },
  {
   "cell_type": "markdown",
   "id": "7fffe469-6621-4788-b777-f2b125934759",
   "metadata": {},
   "source": [
    "- Both copies of repository have a **working directory**: where you can create, store, edit, and delete files.\n",
    "- Both maintain full project **history**"
   ]
  },
  {
   "cell_type": "markdown",
   "id": "3a66f8b3-cb13-4e60-ad7b-7c55637a432b",
   "metadata": {},
   "source": [
    "**LO3: Use Jupyter's Git version control tools for project versioning and collaboration**"
   ]
  },
  {
   "cell_type": "markdown",
   "id": "4c0ba076-dbab-4dff-ac9a-e7d893aba999",
   "metadata": {},
   "source": [
    "**Cloning a repository**\n",
    "\n",
    "- **Copying/downloading the entire contents** (files, project history, location of remote repository) of a remote GitHub repository **to a computer** (your local workspace)"
   ]
  },
  {
   "cell_type": "markdown",
   "id": "14ec3f1c-31e9-4871-af1d-e02149c25d72",
   "metadata": {},
   "source": [
    "**Git has a distinct step of ADDING files to the STAGING AREA because**:\n",
    "\n",
    "- Not all changes we make are ones we want to push to our remote GitHub repository.\n",
    "- It allows us to edit multiple files at once, but associated particular commit messages with particular files (so the commit messages can more specifically reflect the changes that were made)."
   ]
  },
  {
   "cell_type": "markdown",
   "id": "4d105f1e-99ad-43a6-ad07-dbbb53ac7222",
   "metadata": {},
   "source": [
    "**Commits**\n",
    "\n",
    "They are snapshot of the file contents as well as the metadata about the repository (who made the commit, when was it made)\n",
    "\n",
    "- each commit has a human-readable **message**: description of what works was done since the last commit. So that you can easily and effectively review the project's history!\n",
    "- When we commit our changes to Git, the snapshot of changes, commit message, and time, user are all saved to the Git history on LOCAL computer (local repository).\n",
    "\n",
    "To commit, we add the files to the **staging area**: not a physical location on the comupter (**conceptual placeholder** for the files until they are **committed**)"
   ]
  },
  {
   "cell_type": "markdown",
   "id": "344d3321-ce1b-47e1-a0ef-11e2ddb9e532",
   "metadata": {},
   "source": [
    "**Pushing**\n",
    "\n",
    "Push the commits on local repository to remote repository **GitHUB**, to match what you have on local repository. (collaborators will be able to see the changes on remote repository\n",
    "\n",
    "- Pushing with Git is the act of sending changes that were committed to Git to a remote repository, for example, on GitHub.com.\n",
    "- You should push your work to GitHub anytime you want to share your work with others, or when you are done a wrk session and want to back up your work."
   ]
  },
  {
   "cell_type": "markdown",
   "id": "03b4f957-02c6-4566-a4b0-8fee3ba23454",
   "metadata": {},
   "source": [
    "**Pulling**\n",
    "\n",
    "To obtain new changes made by others from the remote repository, synchroize your local repository to what is on the remote repository.\n",
    "\n",
    "- **Until you pull** the changes from remote repository, you will **not be able to push** any more changes yourself!\n",
    "- act of collecting changes that exists in a remote repository, that do not yet exist on the local computer you are working on. "
   ]
  },
  {
   "cell_type": "markdown",
   "id": "3e78d857-c76d-490d-8851-bd1303c39411",
   "metadata": {},
   "source": [
    "**Version control workflows**\n",
    "\n",
    "Generally **three additional stpes** as part of regular (edit, create, delete) workflow\n",
    "1. Tell `Git` to make a **commit** of your own changes in **local repository**\n",
    "2. Tell `Git` **when** to send your **new commits** to the **remote `GitHub` repository**\n",
    "3. Tell `Git` **when** to **retrieve** any new changes made **by others** from the remote repository `GitHub`"
   ]
  },
  {
   "cell_type": "markdown",
   "id": "09c5cdca-d490-4b88-b61a-02507a9e496d",
   "metadata": {},
   "source": [
    "**Example Workflow on JupyterHub**\n",
    "1. Edit, create, and delete files in your cloned local repository on JupyterHub\n",
    "2. Once you want to record your current version, specify which files to \"add\" to Git's staging area. (modified files that you want a snapshot)\n",
    "3. Commit those flagged files to your repository, and include a helpful commit message to tell your collabrators what changes you have made. GitHub has not changed.\n",
    "4. Continue working\n",
    "5. When you want to store your commits from your local repository onto your cloud to share with your collaborators, you can push them back to the hosted repository on GitHub. "
   ]
  },
  {
   "cell_type": "markdown",
   "id": "965912af-53fb-4f71-862f-2de31743fbe6",
   "metadata": {},
   "source": [
    "**Resolve merge conflicts**\n",
    "\n",
    "Merge conflicts: occurs when you forgot to pull before you made new changes to the file, and when the other collaborator and you worked on the same ine of code and Git will not be able to automatically merge the changes.\n",
    "\n",
    "- To fix merge conflicts: open the file in plain text editor\n",
    "- Begining of merge conflicts is preceded by `<<<<<<< HEAD` end of merge conflict is marked by `>>>>>>>`. version of change before the separator `=======` is your change and after is the other's.\n",
    "- Use plain text editor to remove the special markings."
   ]
  },
  {
   "cell_type": "markdown",
   "id": "5d760a20-51a8-413c-a86e-d65d836ce309",
   "metadata": {},
   "source": [
    "**Communicating using GitHub issues**\n",
    "\n",
    "- Emails and messaging apps are not designed for project specific communication.\n",
    "\n",
    "**GitHub issues**: an alternative written communication platform to email and messaging apps\n",
    "\n",
    "- Issues are opened from the \"issues\" tab on the project's GitHub page, and they remain there even after the conversation is over and issue is closed.\n",
    "- One issue thread is usually created per topic, and they are easily searchable using GitHub's search tools.\n",
    "- All issues are accessible to all project collaborators, so no one is left out of the conversaion.\n",
    "- Issues can be setup so that team members get email notifications when a new issue is created or post under issue thread. "
   ]
  },
  {
   "cell_type": "markdown",
   "id": "bd4c982f-16ed-4078-982e-a256b70ded9d",
   "metadata": {},
   "source": [
    "add"
   ]
  },
  {
   "cell_type": "code",
   "execution_count": null,
   "id": "a60623ea-da1b-4a7e-b8b0-884d407c8bd2",
   "metadata": {},
   "outputs": [],
   "source": []
  }
 ],
 "metadata": {
  "kernelspec": {
   "display_name": "R",
   "language": "R",
   "name": "ir"
  },
  "language_info": {
   "codemirror_mode": "r",
   "file_extension": ".r",
   "mimetype": "text/x-r-source",
   "name": "R",
   "pygments_lexer": "r",
   "version": "4.3.3"
  }
 },
 "nbformat": 4,
 "nbformat_minor": 5
}
